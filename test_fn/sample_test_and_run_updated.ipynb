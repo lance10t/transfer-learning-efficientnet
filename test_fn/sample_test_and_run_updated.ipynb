{
 "cells": [
  {
   "cell_type": "markdown",
   "metadata": {},
   "source": [
    "## Evaluation code"
   ]
  },
  {
   "cell_type": "code",
   "execution_count": 1,
   "metadata": {},
   "outputs": [
    {
     "name": "stdout",
     "output_type": "stream",
     "text": [
      "Below are test images with their ground_truth class index appeneded:\n",
      "['a_0.jpg' 'b_21.jpg' 'c_7.JPG' 'd_4.jpg' 'e_22.jpg']\n"
     ]
    }
   ],
   "source": [
    "from io_ import readFiles\n",
    "import numpy as np\n",
    "\n",
    "# This is a sample test folder\n",
    "test_folder = 'test_images'\n",
    "image_paths = readFiles(test_folder)\n",
    "print('Below are test images with their ground_truth class index appeneded:')\n",
    "print(image_paths)"
   ]
  },
  {
   "cell_type": "markdown",
   "metadata": {},
   "source": [
    "## Score each of the images based on the likelihood it belongs to a class. Larger scores indicate higher likelihood.\n",
    "\n",
    "Classes are arranged alphabeticall, [1_Capitol, 1_Chijmes,..., 1_scis, americano, ... taco]. Screen-shot is attached.\n",
    "\n",
    "The first thirteen belong to buidings and the next fifty nine belong to food, this makes for a total of 72 classes.\n",
    "\n",
    "Scores should take the form of a [Nx72] array, where N is the number of test images.\n"
   ]
  },
  {
   "cell_type": "code",
   "execution_count": 2,
   "metadata": {},
   "outputs": [],
   "source": [
    "################# Code for sorting the classes (not needed for project) ##################\n",
    "\n",
    "# from tensorflow.keras.preprocessing.image import ImageDataGenerator\n",
    "# import numpy as np\n",
    "\n",
    "# train_dir = '../training'\n",
    "\n",
    "\n",
    "\n",
    "# train_datagen = ImageDataGenerator() \n",
    "# train_generator = train_datagen.flow_from_directory(\n",
    "#     train_dir) \n",
    "\n",
    "# a = train_generator.class_indices\n",
    "# l = []\n",
    "# for i in a:\n",
    "#     l.append(i)\n",
    "# np.save('sorted_classes.npy', l)"
   ]
  },
  {
   "cell_type": "code",
   "execution_count": 2,
   "metadata": {},
   "outputs": [
    {
     "name": "stdout",
     "output_type": "stream",
     "text": [
      "1_Capitol  is class  0\n",
      "1_library  is class  10\n",
      "cafe_coffee_with_milk  is class  21\n"
     ]
    }
   ],
   "source": [
    "sorted_class = np.load('sorted_classes.npy')\n",
    "print(sorted_class[0], ' is class ', 0)\n",
    "print(sorted_class[10], ' is class ', 10)\n",
    "print(sorted_class[21], ' is class ', 21)"
   ]
  },
  {
   "cell_type": "code",
   "execution_count": 6,
   "metadata": {},
   "outputs": [],
   "source": [
    "############## Write your test function here ##############\n",
    "\n",
    "\n",
    "# Below is a possible mechanics for score computation;\n",
    "# However, it must be modifed according to pre-processing amd network\n",
    "\n",
    "\n",
    "# from tensorflow.keras.preprocessing import image\n",
    "# num_images = len(image_paths)\n",
    "# scores = np.zeros([num_images, 72])\n",
    "# for i,im in enumerate(image_paths):\n",
    "#     img = image.load_img(test_folder + '/' + im, target_size=(224, 224))\n",
    "#     img = image.img_to_array(img)\n",
    "#     img = img.reshape([1,224,224,3])\n",
    "#     scores[i] = model.predict(img)\n"
   ]
  },
  {
   "cell_type": "code",
   "execution_count": 3,
   "metadata": {},
   "outputs": [],
   "source": [
    "CLASS_NAMES = sorted_class.tolist()"
   ]
  },
  {
   "cell_type": "code",
   "execution_count": 4,
   "metadata": {},
   "outputs": [],
   "source": [
    "############## Write your test function here ##############\n",
    "import json\n",
    "import os\n",
    "import tensorflow as tf\n",
    "from tensorflow.keras.preprocessing import image\n",
    "from tensorflow.keras.optimizers import Adam\n",
    "\n",
    "# Below is a possible mechanics for score computation;\n",
    "# However, it must be modifed according to pre-processing amd network"
   ]
  },
  {
   "cell_type": "code",
   "execution_count": 5,
   "metadata": {},
   "outputs": [],
   "source": [
    "# Load model and weights from json and h5 files\n",
    "MODEL_FILE = os.path.join('..', 'GerryChng_EfficientNetB5_20210414_01.json')\n",
    "MODEL_WEIGHTS = os.path.join('..', 'GerryChng_EfficientNetB5_20210414_01.h5')\n",
    "\n",
    "# Model reconstruction from JSON file\n",
    "with open(MODEL_FILE, 'r') as json_file:\n",
    "    json_savedModel= json_file.read()\n",
    "\n",
    "test_model = tf.keras.models.model_from_json(json_savedModel)\n",
    "test_model.compile(loss='categorical_crossentropy',\n",
    "              optimizer=Adam(),\n",
    "              metrics=['acc'])\n",
    "\n",
    "# Load weights into the new model\n",
    "test_model.load_weights(MODEL_WEIGHTS)"
   ]
  },
  {
   "cell_type": "code",
   "execution_count": null,
   "metadata": {},
   "outputs": [],
   "source": [
    "test_model.summary()"
   ]
  },
  {
   "cell_type": "code",
   "execution_count": 6,
   "metadata": {},
   "outputs": [],
   "source": [
    "# Define my own ground truth array based on the actual directory the file was from\n",
    "my_test_gt = [int(os.path.splitext(x)[0].split('_')[-1]) for x in image_paths]\n",
    "\n",
    "# Define my own ground truth array based on the actual directory the file was from\n",
    "# image_classes = [x.split('___')[0] for x in image_paths]\n",
    "# my_test_gt = [CLASS_NAMES.index(x) for x in image_classes]"
   ]
  },
  {
   "cell_type": "code",
   "execution_count": 7,
   "metadata": {},
   "outputs": [],
   "source": [
    "num_images = len(image_paths)\n",
    "\n",
    "# Training image dimensions - 456x456 because we are loading EfficientNetB5\n",
    "IMG_SIZE = 456\n",
    "IMG_CHANNELS = 3\n",
    "\n",
    "scores = np.zeros([num_images, 72])\n",
    "image_file = [None] * num_images\n",
    "\n",
    "for i,im in enumerate(image_paths):\n",
    "    img = image.load_img(test_folder + '/' + im, target_size=(456, 456))\n",
    "    img = image.img_to_array(img)\n",
    "    img = img.reshape([1,456,456,3])\n",
    "    scores[i] = test_model.predict(img)\n",
    "    image_file[i] = im\n"
   ]
  },
  {
   "cell_type": "code",
   "execution_count": 8,
   "metadata": {},
   "outputs": [
    {
     "name": "stdout",
     "output_type": "stream",
     "text": [
      "[ 3 21  7  4 22]\n"
     ]
    }
   ],
   "source": [
    "results = np.argmax(scores[:20], axis=1)\n",
    "print(results)"
   ]
  },
  {
   "cell_type": "markdown",
   "metadata": {},
   "source": [
    "## Demonstrating the evaluation functions on the first two test images\n",
    "\n",
    "You need not modify code beyond this point."
   ]
  },
  {
   "cell_type": "code",
   "execution_count": 9,
   "metadata": {},
   "outputs": [
    {
     "name": "stdout",
     "output_type": "stream",
     "text": [
      "overall accuracy\n",
      "percentage top1 accuracy: 0.8\n",
      "percentage top5 accuracy: 1.0\n"
     ]
    }
   ],
   "source": [
    "from io_ import score\n",
    "print('overall accuracy')\n",
    "\n",
    "# Ground-truth: the first image belongs to class 0; the second image to class 13.\n",
    "# gt = np.array([0,21]) \n",
    "gt = np.array(my_test_gt)\n",
    "\n",
    "top1, top5 = score(scores, gt, 5)\n",
    "print('percentage top1 accuracy:', top1)\n",
    "print('percentage top5 accuracy:', top5)"
   ]
  },
  {
   "cell_type": "code",
   "execution_count": 10,
   "metadata": {},
   "outputs": [
    {
     "name": "stdout",
     "output_type": "stream",
     "text": [
      "accuracy on building only\n",
      "percentage top1 accuracy: 0.6666666666666666\n",
      "percentage top5 accuracy: 1.0\n"
     ]
    }
   ],
   "source": [
    "print('accuracy on building only')\n",
    "mask = gt<13\n",
    "top1, top5 = score(scores[mask,:13], gt[mask], 5)\n",
    "print('percentage top1 accuracy:', top1)\n",
    "print('percentage top5 accuracy:', top5)"
   ]
  },
  {
   "cell_type": "code",
   "execution_count": 11,
   "metadata": {},
   "outputs": [
    {
     "name": "stdout",
     "output_type": "stream",
     "text": [
      "accuracy on food only\n",
      "percentage top1 accuracy: 1.0\n",
      "percentage top5 accuracy: 1.0\n"
     ]
    }
   ],
   "source": [
    "print('accuracy on food only')\n",
    "mask = gt>=13\n",
    "top1, top5 = score(scores[mask,13:], gt[mask]-13, 5)\n",
    "print('percentage top1 accuracy:', top1)\n",
    "print('percentage top5 accuracy:', top5)"
   ]
  },
  {
   "cell_type": "code",
   "execution_count": null,
   "metadata": {},
   "outputs": [],
   "source": []
  }
 ],
 "metadata": {
  "kernelspec": {
   "display_name": "Python 3",
   "language": "python",
   "name": "python3"
  },
  "language_info": {
   "codemirror_mode": {
    "name": "ipython",
    "version": 3
   },
   "file_extension": ".py",
   "mimetype": "text/x-python",
   "name": "python",
   "nbconvert_exporter": "python",
   "pygments_lexer": "ipython3",
   "version": "3.8.5"
  }
 },
 "nbformat": 4,
 "nbformat_minor": 4
}
